{
    "nbformat_minor": 1, 
    "cells": [
        {
            "execution_count": 2, 
            "cell_type": "code", 
            "metadata": {}, 
            "outputs": [
                {
                    "output_type": "stream", 
                    "name": "stdout", 
                    "text": "Requirement already satisfied: folium in /opt/conda/envs/DSX-Python35/lib/python3.5/site-packages (0.9.1)\nRequirement already satisfied: requests in /opt/conda/envs/DSX-Python35/lib/python3.5/site-packages (from folium) (2.18.4)\nRequirement already satisfied: jinja2>=2.9 in /opt/conda/envs/DSX-Python35/lib/python3.5/site-packages (from folium) (2.9.6)\nRequirement already satisfied: numpy in /opt/conda/envs/DSX-Python35/lib/python3.5/site-packages (from folium) (1.13.3)\nRequirement already satisfied: branca>=0.3.0 in /opt/conda/envs/DSX-Python35/lib/python3.5/site-packages (from folium) (0.3.1)\nRequirement already satisfied: chardet<3.1.0,>=3.0.2 in /opt/conda/envs/DSX-Python35/lib/python3.5/site-packages (from requests->folium) (3.0.4)\nRequirement already satisfied: idna<2.7,>=2.5 in /opt/conda/envs/DSX-Python35/lib/python3.5/site-packages (from requests->folium) (2.6)\nRequirement already satisfied: urllib3<1.23,>=1.21.1 in /opt/conda/envs/DSX-Python35/lib/python3.5/site-packages (from requests->folium) (1.22)\nRequirement already satisfied: certifi>=2017.4.17 in /opt/conda/envs/DSX-Python35/lib/python3.5/site-packages (from requests->folium) (2019.3.9)\nRequirement already satisfied: MarkupSafe>=0.23 in /opt/conda/envs/DSX-Python35/lib/python3.5/site-packages (from jinja2>=2.9->folium) (1.0)\nRequirement already satisfied: six in /opt/conda/envs/DSX-Python35/lib/python3.5/site-packages (from branca>=0.3.0->folium) (1.11.0)\n\u001b[31mtensorflow 1.3.0 requires tensorflow-tensorboard<0.2.0,>=0.1.0, which is not installed.\u001b[0m\n"
                }
            ], 
            "source": "from bs4 import BeautifulSoup\nimport requests\nimport numpy as np\nimport pandas as pd\nfrom geopy.geocoders import Nominatim\n!pip install folium\nimport folium"
        }, 
        {
            "source": " scrape the following Wikipedia page, https://en.wikipedia.org/wiki/List_of_postal_codes_of_Canada:_M", 
            "cell_type": "markdown", 
            "metadata": {}
        }, 
        {
            "execution_count": 3, 
            "cell_type": "code", 
            "metadata": {}, 
            "outputs": [], 
            "source": "url = 'https://en.wikipedia.org/wiki/List_of_postal_codes_of_Canada:_M'\ngets = requests.get(url)\nsoup = BeautifulSoup(gets.content, 'html.parser')\ntable = soup.find('table')\nt_r = table.find_all('tr')\nrows = []\nfor tr in t_r:\n    i = tr.find_all('td')\n    if i:\n        rows.append(i)\n        \nlst = []\nfor row in rows:\n    postalcode = row[0].text.rstrip()\n    borough = row[1].text.rstrip()\n    neighborhood = row[2].text.rstrip()\n    if borough != 'Not assigned':  #Only process the cells that have an assigned borough. Ignore cells with a borough that is Not assigned.\n        if neighborhood == 'Not assigned':  #If a cell has a borough but a Not assigned neighborhood, then the neighborhood will be the same as the borough \n            neighborhood = borough   \n        lst.append([postalcode, borough, neighborhood])"
        }, 
        {
            "source": "transform the data into a pandas dataframe", 
            "cell_type": "markdown", 
            "metadata": {}
        }, 
        {
            "execution_count": 7, 
            "cell_type": "code", 
            "metadata": {}, 
            "outputs": [], 
            "source": "cols = ['PostalCode', 'Borough', 'Neighborhood']\ndf = pd.DataFrame(lst, columns=cols)"
        }, 
        {
            "source": "groupby PostalCode and aggregating using .agg() to satisfy this condition\"More than one neighborhood can exist in one postal code area. For example, in the table on the Wikipedia page, you will notice that M5A is listed twice and has two neighborhoods: Harbourfront and Regent Park. These two rows will be combined into one row with the neighborhoods separated with a comma as shown in row 11 in the above table.\"", 
            "cell_type": "markdown", 
            "metadata": {}
        }, 
        {
            "execution_count": 8, 
            "cell_type": "code", 
            "metadata": {}, 
            "outputs": [], 
            "source": "df = df.groupby('PostalCode').agg(\n    {\n        'Borough':'first', \n        'Neighborhood': ', '.join,}\n    ).reset_index()"
        }, 
        {
            "source": "#### Reading CSV file from link \"https://cocl.us/Geospatial_data\" to get the latitude and longitude of each neighborhood and add them to our data frame", 
            "cell_type": "markdown", 
            "metadata": {}
        }, 
        {
            "execution_count": 9, 
            "cell_type": "code", 
            "metadata": {}, 
            "outputs": [
                {
                    "output_type": "stream", 
                    "name": "stdout", 
                    "text": "--2019-07-02 02:10:27--  http://cocl.us/Geospatial_data/\nResolving cocl.us (cocl.us)... 169.48.113.201\nConnecting to cocl.us (cocl.us)|169.48.113.201|:80... connected.\nHTTP request sent, awaiting response... 301 Moved Permanently\nLocation: https://cocl.us/Geospatial_data/ [following]\n--2019-07-02 02:10:27--  https://cocl.us/Geospatial_data/\nConnecting to cocl.us (cocl.us)|169.48.113.201|:443... connected.\nHTTP request sent, awaiting response... 301 Moved Permanently\nLocation: https://ibm.box.com/shared/static/9afzr83pps4pwf2smjjcf1y5mvgb18rr.csv [following]\n--2019-07-02 02:10:27--  https://ibm.box.com/shared/static/9afzr83pps4pwf2smjjcf1y5mvgb18rr.csv\nResolving ibm.box.com (ibm.box.com)... 107.152.27.197\nConnecting to ibm.box.com (ibm.box.com)|107.152.27.197|:443... connected.\nHTTP request sent, awaiting response... 301 Moved Permanently\nLocation: /public/static/9afzr83pps4pwf2smjjcf1y5mvgb18rr.csv [following]\n--2019-07-02 02:10:27--  https://ibm.box.com/public/static/9afzr83pps4pwf2smjjcf1y5mvgb18rr.csv\nReusing existing connection to ibm.box.com:443.\nHTTP request sent, awaiting response... 301 Moved Permanently\nLocation: https://ibm.ent.box.com/public/static/9afzr83pps4pwf2smjjcf1y5mvgb18rr.csv [following]\n--2019-07-02 02:10:27--  https://ibm.ent.box.com/public/static/9afzr83pps4pwf2smjjcf1y5mvgb18rr.csv\nResolving ibm.ent.box.com (ibm.ent.box.com)... 107.152.27.211, 107.152.26.211\nConnecting to ibm.ent.box.com (ibm.ent.box.com)|107.152.27.211|:443... connected.\nHTTP request sent, awaiting response... 302 Found\nLocation: https://public.boxcloud.com/d/1/b1!oOckY1iV2LyhT17L6ZDlFuvu2o4p5egzuawilKODS1_OEZzalczlWcCYBxWSncGbBH04lsruexpgI9qdY-qkH9q3WArNZe2lYxW_MH6lJHw0Opf4CLlzMCQo2OT4c3y7qVKUGHcgqn-7NC4zUF-0FWoYKyt8bKg-KDxnKtXbEzaRNSD6BG4YH0y41aA9OkRxClsZ5q77yFRcsvDrDNXlHq8mOq3oPQfjAynFAaIH4a23kRfCr6qd-YhXjzSXdt32OiLc87Fs1sB7tXwkvUxRtQnpjyvTtXHYiMUd3oqiWFYG13r44OFjJ--RiPUHjGWWk2rNJodlo48GwTk4fb9ZOwUSiYogWWHoGi3_t0uOpLqO_lGPh6ogXldM4st2okhOxMoSvKAk0u6kFB6ZeG7Pyekn4-rwHbdTUntaCHXZQL6rBWFv_SUBHuzDB8d63eDpatTRgkSu31fLKZztPwYIbLcLdHq2TL_7m4bsNScaTzjjc2jKDJEUuc9ukINbo2ZaiTvE1bwRuqwCHL263r5cD8FOt1HsF_dcqe-6JlKdeo_U6WRnDd_2tr8J3QITvLgpCp0n3q-539Pf8zL8R9ixiE_cK0ntm5DeCSLCsTHzO-w_YmD5sRaj3RCmIEJsWQ1_CiNeCBhe5tYYb8eafEePKLJFMAIn_llUTCwzq1oZaCD4hLCjPHraBLlgKquCWtkW_GqrHzfK2fG-IywmHuXmMOaNOXSYtMVmTFaO9wX3sRfgrEoh3DrhlgA9yQJ_zLV_-GGW7I2ybtVf7Fp4kw0zpO14OOh_8dS3rECO2vZtIMl6jhQ3fyU1ghP5yH7HI9vxOr5a-WnWSVbn110GkG6R6RBq7b2eXy7-9xAIZrWW8opjBg66R2rZOUoNLZJdIuhPx8FU-XZMRUgLTSr3xGv-xciXZ9eGDhN2bnzVetfoDNj6K7WOYiKj8kJg6PLl0Y_m4nPA4wLczYH_XcfTOH05qHpuvLLe7eDUIhpCle-aphxPhEO2MjdUuxq2aLekfgge76AysBMC14OgZ5jfqRAfQJjIHChR1xPckHgBK4mCwpdWIqYt2QNquHIj1ksFRNEcTaGIeNh_Tukwg5Y37Mg1A1sjOMKtRrDfInVRpuU13WwSuUHCqNKlrvqw1q6Ch0qqg9Cr_Z975Q2dNKI5WKRlWQvtC-hoZ70hu_t9Xcil1umw9NjqmhhD9Omtd9L2Qohyos1qU-tpEYMIcSGa4vUxIhMYdwijnbLlWipJVSxf88aErzkhkvyYJvo5C0Wvcq2MDUrC5HJ_xxntIm5cSnIr8mnOiey9Z9LjDRX3VLmZH4JWcZGwsgQttt_kq1OGADXTrPjTkY7CkTJYelOwFr3ygIB7Wcc5tBpUDjbkxBE8lqCr0zrHLAuxICI./download [following]\n--2019-07-02 02:10:28--  https://public.boxcloud.com/d/1/b1!oOckY1iV2LyhT17L6ZDlFuvu2o4p5egzuawilKODS1_OEZzalczlWcCYBxWSncGbBH04lsruexpgI9qdY-qkH9q3WArNZe2lYxW_MH6lJHw0Opf4CLlzMCQo2OT4c3y7qVKUGHcgqn-7NC4zUF-0FWoYKyt8bKg-KDxnKtXbEzaRNSD6BG4YH0y41aA9OkRxClsZ5q77yFRcsvDrDNXlHq8mOq3oPQfjAynFAaIH4a23kRfCr6qd-YhXjzSXdt32OiLc87Fs1sB7tXwkvUxRtQnpjyvTtXHYiMUd3oqiWFYG13r44OFjJ--RiPUHjGWWk2rNJodlo48GwTk4fb9ZOwUSiYogWWHoGi3_t0uOpLqO_lGPh6ogXldM4st2okhOxMoSvKAk0u6kFB6ZeG7Pyekn4-rwHbdTUntaCHXZQL6rBWFv_SUBHuzDB8d63eDpatTRgkSu31fLKZztPwYIbLcLdHq2TL_7m4bsNScaTzjjc2jKDJEUuc9ukINbo2ZaiTvE1bwRuqwCHL263r5cD8FOt1HsF_dcqe-6JlKdeo_U6WRnDd_2tr8J3QITvLgpCp0n3q-539Pf8zL8R9ixiE_cK0ntm5DeCSLCsTHzO-w_YmD5sRaj3RCmIEJsWQ1_CiNeCBhe5tYYb8eafEePKLJFMAIn_llUTCwzq1oZaCD4hLCjPHraBLlgKquCWtkW_GqrHzfK2fG-IywmHuXmMOaNOXSYtMVmTFaO9wX3sRfgrEoh3DrhlgA9yQJ_zLV_-GGW7I2ybtVf7Fp4kw0zpO14OOh_8dS3rECO2vZtIMl6jhQ3fyU1ghP5yH7HI9vxOr5a-WnWSVbn110GkG6R6RBq7b2eXy7-9xAIZrWW8opjBg66R2rZOUoNLZJdIuhPx8FU-XZMRUgLTSr3xGv-xciXZ9eGDhN2bnzVetfoDNj6K7WOYiKj8kJg6PLl0Y_m4nPA4wLczYH_XcfTOH05qHpuvLLe7eDUIhpCle-aphxPhEO2MjdUuxq2aLekfgge76AysBMC14OgZ5jfqRAfQJjIHChR1xPckHgBK4mCwpdWIqYt2QNquHIj1ksFRNEcTaGIeNh_Tukwg5Y37Mg1A1sjOMKtRrDfInVRpuU13WwSuUHCqNKlrvqw1q6Ch0qqg9Cr_Z975Q2dNKI5WKRlWQvtC-hoZ70hu_t9Xcil1umw9NjqmhhD9Omtd9L2Qohyos1qU-tpEYMIcSGa4vUxIhMYdwijnbLlWipJVSxf88aErzkhkvyYJvo5C0Wvcq2MDUrC5HJ_xxntIm5cSnIr8mnOiey9Z9LjDRX3VLmZH4JWcZGwsgQttt_kq1OGADXTrPjTkY7CkTJYelOwFr3ygIB7Wcc5tBpUDjbkxBE8lqCr0zrHLAuxICI./download\nResolving public.boxcloud.com (public.boxcloud.com)... 107.152.26.200\nConnecting to public.boxcloud.com (public.boxcloud.com)|107.152.26.200|:443... connected.\nHTTP request sent, awaiting response... 200 OK\nLength: 2891 (2.8K) [text/csv]\nSaving to: \u2018GeoCord.csv\u2019\n\n100%[======================================>] 2,891       --.-K/s   in 0s      \n\n2019-07-02 02:10:29 (407 MB/s) - \u2018GeoCord.csv\u2019 saved [2891/2891]\n\n"
                }
            ], 
            "source": "!wget -O GeoCord.csv http://cocl.us/Geospatial_data/"
        }, 
        {
            "execution_count": 21, 
            "cell_type": "code", 
            "metadata": {}, 
            "outputs": [], 
            "source": "df2= pd.read_csv('GeoCord.csv') # Reading csv"
        }, 
        {
            "source": "Assining postalcode accroding to coordinates -->using for loop ", 
            "cell_type": "markdown", 
            "metadata": {}
        }, 
        {
            "execution_count": 26, 
            "cell_type": "code", 
            "metadata": {}, 
            "outputs": [
                {
                    "execution_count": 26, 
                    "metadata": {}, 
                    "data": {
                        "text/html": "<div>\n<style scoped>\n    .dataframe tbody tr th:only-of-type {\n        vertical-align: middle;\n    }\n\n    .dataframe tbody tr th {\n        vertical-align: top;\n    }\n\n    .dataframe thead th {\n        text-align: right;\n    }\n</style>\n<table border=\"1\" class=\"dataframe\">\n  <thead>\n    <tr style=\"text-align: right;\">\n      <th></th>\n      <th>PostalCode</th>\n      <th>Borough</th>\n      <th>Neighborhood</th>\n      <th>Latitude</th>\n      <th>Longitude</th>\n    </tr>\n  </thead>\n  <tbody>\n    <tr>\n      <th>0</th>\n      <td>M1B</td>\n      <td>Scarborough</td>\n      <td>Rouge, Malvern</td>\n      <td>43.806686</td>\n      <td>-79.194353</td>\n    </tr>\n    <tr>\n      <th>1</th>\n      <td>M1C</td>\n      <td>Scarborough</td>\n      <td>Highland Creek, Rouge Hill, Port Union</td>\n      <td>43.784535</td>\n      <td>-79.160497</td>\n    </tr>\n    <tr>\n      <th>2</th>\n      <td>M1E</td>\n      <td>Scarborough</td>\n      <td>Guildwood, Morningside, West Hill</td>\n      <td>43.763573</td>\n      <td>-79.188711</td>\n    </tr>\n    <tr>\n      <th>3</th>\n      <td>M1G</td>\n      <td>Scarborough</td>\n      <td>Woburn</td>\n      <td>43.770992</td>\n      <td>-79.216917</td>\n    </tr>\n    <tr>\n      <th>4</th>\n      <td>M1H</td>\n      <td>Scarborough</td>\n      <td>Cedarbrae</td>\n      <td>43.773136</td>\n      <td>-79.239476</td>\n    </tr>\n    <tr>\n      <th>5</th>\n      <td>M1J</td>\n      <td>Scarborough</td>\n      <td>Scarborough Village</td>\n      <td>43.744734</td>\n      <td>-79.239476</td>\n    </tr>\n    <tr>\n      <th>6</th>\n      <td>M1K</td>\n      <td>Scarborough</td>\n      <td>East Birchmount Park, Ionview, Kennedy Park</td>\n      <td>43.727929</td>\n      <td>-79.262029</td>\n    </tr>\n    <tr>\n      <th>7</th>\n      <td>M1L</td>\n      <td>Scarborough</td>\n      <td>Clairlea, Golden Mile, Oakridge</td>\n      <td>43.711112</td>\n      <td>-79.284577</td>\n    </tr>\n    <tr>\n      <th>8</th>\n      <td>M1M</td>\n      <td>Scarborough</td>\n      <td>Cliffcrest, Cliffside, Scarborough Village West</td>\n      <td>43.716316</td>\n      <td>-79.239476</td>\n    </tr>\n    <tr>\n      <th>9</th>\n      <td>M1N</td>\n      <td>Scarborough</td>\n      <td>Birch Cliff, Cliffside West</td>\n      <td>43.692657</td>\n      <td>-79.264848</td>\n    </tr>\n    <tr>\n      <th>10</th>\n      <td>M1P</td>\n      <td>Scarborough</td>\n      <td>Dorset Park, Scarborough Town Centre, Wexford ...</td>\n      <td>43.757410</td>\n      <td>-79.273304</td>\n    </tr>\n    <tr>\n      <th>11</th>\n      <td>M1R</td>\n      <td>Scarborough</td>\n      <td>Maryvale, Wexford</td>\n      <td>43.750072</td>\n      <td>-79.295849</td>\n    </tr>\n    <tr>\n      <th>12</th>\n      <td>M1S</td>\n      <td>Scarborough</td>\n      <td>Agincourt</td>\n      <td>43.794200</td>\n      <td>-79.262029</td>\n    </tr>\n    <tr>\n      <th>13</th>\n      <td>M1T</td>\n      <td>Scarborough</td>\n      <td>Clarks Corners, Sullivan, Tam O'Shanter</td>\n      <td>43.781638</td>\n      <td>-79.304302</td>\n    </tr>\n    <tr>\n      <th>14</th>\n      <td>M1V</td>\n      <td>Scarborough</td>\n      <td>Agincourt North, L'Amoreaux East, Milliken, St...</td>\n      <td>43.815252</td>\n      <td>-79.284577</td>\n    </tr>\n    <tr>\n      <th>15</th>\n      <td>M1W</td>\n      <td>Scarborough</td>\n      <td>L'Amoreaux West</td>\n      <td>43.799525</td>\n      <td>-79.318389</td>\n    </tr>\n    <tr>\n      <th>16</th>\n      <td>M1X</td>\n      <td>Scarborough</td>\n      <td>Upper Rouge</td>\n      <td>43.836125</td>\n      <td>-79.205636</td>\n    </tr>\n    <tr>\n      <th>17</th>\n      <td>M2H</td>\n      <td>North York</td>\n      <td>Hillcrest Village</td>\n      <td>43.803762</td>\n      <td>-79.363452</td>\n    </tr>\n    <tr>\n      <th>18</th>\n      <td>M2J</td>\n      <td>North York</td>\n      <td>Fairview, Henry Farm, Oriole</td>\n      <td>43.778517</td>\n      <td>-79.346556</td>\n    </tr>\n    <tr>\n      <th>19</th>\n      <td>M2K</td>\n      <td>North York</td>\n      <td>Bayview Village</td>\n      <td>43.786947</td>\n      <td>-79.385975</td>\n    </tr>\n  </tbody>\n</table>\n</div>", 
                        "text/plain": "   PostalCode      Borough                                       Neighborhood  \\\n0         M1B  Scarborough                                     Rouge, Malvern   \n1         M1C  Scarborough             Highland Creek, Rouge Hill, Port Union   \n2         M1E  Scarborough                  Guildwood, Morningside, West Hill   \n3         M1G  Scarborough                                             Woburn   \n4         M1H  Scarborough                                          Cedarbrae   \n5         M1J  Scarborough                                Scarborough Village   \n6         M1K  Scarborough        East Birchmount Park, Ionview, Kennedy Park   \n7         M1L  Scarborough                    Clairlea, Golden Mile, Oakridge   \n8         M1M  Scarborough    Cliffcrest, Cliffside, Scarborough Village West   \n9         M1N  Scarborough                        Birch Cliff, Cliffside West   \n10        M1P  Scarborough  Dorset Park, Scarborough Town Centre, Wexford ...   \n11        M1R  Scarborough                                  Maryvale, Wexford   \n12        M1S  Scarborough                                          Agincourt   \n13        M1T  Scarborough            Clarks Corners, Sullivan, Tam O'Shanter   \n14        M1V  Scarborough  Agincourt North, L'Amoreaux East, Milliken, St...   \n15        M1W  Scarborough                                    L'Amoreaux West   \n16        M1X  Scarborough                                        Upper Rouge   \n17        M2H   North York                                  Hillcrest Village   \n18        M2J   North York                       Fairview, Henry Farm, Oriole   \n19        M2K   North York                                    Bayview Village   \n\n     Latitude  Longitude  \n0   43.806686 -79.194353  \n1   43.784535 -79.160497  \n2   43.763573 -79.188711  \n3   43.770992 -79.216917  \n4   43.773136 -79.239476  \n5   43.744734 -79.239476  \n6   43.727929 -79.262029  \n7   43.711112 -79.284577  \n8   43.716316 -79.239476  \n9   43.692657 -79.264848  \n10  43.757410 -79.273304  \n11  43.750072 -79.295849  \n12  43.794200 -79.262029  \n13  43.781638 -79.304302  \n14  43.815252 -79.284577  \n15  43.799525 -79.318389  \n16  43.836125 -79.205636  \n17  43.803762 -79.363452  \n18  43.778517 -79.346556  \n19  43.786947 -79.385975  "
                    }, 
                    "output_type": "execute_result"
                }
            ], 
            "source": "df['Latitude'] = np.nan\ndf['Longitude'] = np.nan\nfor i in df.index:\n    ci = df2['Postal Code'] == df.loc[i, 'PostalCode']\n    df.at[i, 'Latitude'] = df2.loc[ci, 'Latitude'].values\n    df.at[i, 'Longitude'] = df2.loc[ci, 'Longitude'].values\ndf.head(20)"
        }, 
        {
            "execution_count": null, 
            "cell_type": "code", 
            "metadata": {}, 
            "outputs": [], 
            "source": ""
        }
    ], 
    "metadata": {
        "kernelspec": {
            "display_name": "Python 3.5", 
            "name": "python3", 
            "language": "python"
        }, 
        "language_info": {
            "mimetype": "text/x-python", 
            "nbconvert_exporter": "python", 
            "version": "3.5.5", 
            "name": "python", 
            "file_extension": ".py", 
            "pygments_lexer": "ipython3", 
            "codemirror_mode": {
                "version": 3, 
                "name": "ipython"
            }
        }
    }, 
    "nbformat": 4
}